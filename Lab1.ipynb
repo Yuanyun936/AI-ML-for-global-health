{
  "cells": [
    {
      "cell_type": "markdown",
      "metadata": {
        "id": "view-in-github",
        "colab_type": "text"
      },
      "source": [
        "<a href=\"https://colab.research.google.com/github/Yuanyun936/AI-ML-for-global-health/blob/main/Lab1.ipynb\" target=\"_parent\"><img src=\"https://colab.research.google.com/assets/colab-badge.svg\" alt=\"Open In Colab\"/></a>"
      ]
    },
    {
      "cell_type": "markdown",
      "id": "e6a11275-1026-430c-84a2-b32c1279cdb4",
      "metadata": {
        "id": "e6a11275-1026-430c-84a2-b32c1279cdb4"
      },
      "source": [
        "# LAB 1 - Screening Baseline Machine Learning Techniques\n",
        "The objective of this lab is to understand the fundamentals of basic machine learning before approaching custom built deep learning architectures"
      ]
    },
    {
      "cell_type": "markdown",
      "id": "2013fd51-9ff8-4c0a-b20e-17d43a85fd87",
      "metadata": {
        "id": "2013fd51-9ff8-4c0a-b20e-17d43a85fd87"
      },
      "source": [
        "#### Project Info\n",
        "\n",
        " ->Copyright 2024 Luis R Soenksen\n",
        "\n",
        " ->Last Update: March 24, 2024\n",
        "\n",
        "```\n",
        "**Licensed under the Apache License, Version 2.0**\n",
        "You may not use this file except in compliance with the License. You may obtain a copy of the License at\n",
        "https://www.apache.org/licenses/LICENSE-2.0\n",
        "Unless required by applicable law or agreed to in writing, software distributed under the License is distributed on an \"AS IS\" BASIS, WITHOUT WARRANTIES OR CONDITIONS OF ANY KIND, either express or implied. See the License for the specific language governing permissions and limitations under the License.\n",
        "```\n",
        "\n",
        "<table class=\"tfo-notebook-buttons\" align=\"left\">\n",
        "  <td>\n",
        "    <a target=\"_blank\" href=\"https://colab.research.google.com/\"><img src=\"https://www.tensorflow.org/images/colab_logo_32px.png\" />Compatible with Google Colab</a>      \n",
        "    </td>\n",
        "  <td>\n",
        "    <a target=\"_blank\" href=\"https://github.com/lrsoenksen/\"><img src=\"https://www.tensorflow.org/images/GitHub-Mark-32px.png\" />Visit my GitHub</a>\n",
        "  </td>\n",
        "</table>"
      ]
    },
    {
      "cell_type": "markdown",
      "id": "7c18ef9e-f89c-40e6-a79b-011b18add9c8",
      "metadata": {
        "id": "7c18ef9e-f89c-40e6-a79b-011b18add9c8"
      },
      "source": [
        "------------------------------------------------------"
      ]
    },
    {
      "cell_type": "markdown",
      "source": [
        "#### Step 0) Setup system and import required packages"
      ],
      "metadata": {
        "id": "Ny03gUmJO5E7"
      },
      "id": "Ny03gUmJO5E7"
    },
    {
      "cell_type": "code",
      "source": [
        "# Installs deeded not already included in Google Colab\n",
        "!pip install opendatasets --upgrade --quiet\n",
        "!pip3 install lazypredict ## You will need to install lazypredict first time you try to use the package in a new instance"
      ],
      "metadata": {
        "id": "J_ZbzfZEPCj-",
        "colab": {
          "base_uri": "https://localhost:8080/"
        },
        "outputId": "8143db12-33bc-48dc-ad31-814d64146f87"
      },
      "id": "J_ZbzfZEPCj-",
      "execution_count": 3,
      "outputs": [
        {
          "output_type": "stream",
          "name": "stdout",
          "text": [
            "Collecting lazypredict\n",
            "  Downloading lazypredict-0.2.12-py2.py3-none-any.whl.metadata (12 kB)\n",
            "Requirement already satisfied: click in /usr/local/lib/python3.10/dist-packages (from lazypredict) (8.1.7)\n",
            "Requirement already satisfied: scikit-learn in /usr/local/lib/python3.10/dist-packages (from lazypredict) (1.3.2)\n",
            "Requirement already satisfied: pandas in /usr/local/lib/python3.10/dist-packages (from lazypredict) (2.1.4)\n",
            "Requirement already satisfied: tqdm in /usr/local/lib/python3.10/dist-packages (from lazypredict) (4.66.5)\n",
            "Requirement already satisfied: joblib in /usr/local/lib/python3.10/dist-packages (from lazypredict) (1.4.2)\n",
            "Requirement already satisfied: lightgbm in /usr/local/lib/python3.10/dist-packages (from lazypredict) (4.4.0)\n",
            "Requirement already satisfied: xgboost in /usr/local/lib/python3.10/dist-packages (from lazypredict) (2.1.1)\n",
            "Requirement already satisfied: numpy>=1.17.0 in /usr/local/lib/python3.10/dist-packages (from lightgbm->lazypredict) (1.26.4)\n",
            "Requirement already satisfied: scipy in /usr/local/lib/python3.10/dist-packages (from lightgbm->lazypredict) (1.13.1)\n",
            "Requirement already satisfied: python-dateutil>=2.8.2 in /usr/local/lib/python3.10/dist-packages (from pandas->lazypredict) (2.8.2)\n",
            "Requirement already satisfied: pytz>=2020.1 in /usr/local/lib/python3.10/dist-packages (from pandas->lazypredict) (2024.1)\n",
            "Requirement already satisfied: tzdata>=2022.1 in /usr/local/lib/python3.10/dist-packages (from pandas->lazypredict) (2024.1)\n",
            "Requirement already satisfied: threadpoolctl>=2.0.0 in /usr/local/lib/python3.10/dist-packages (from scikit-learn->lazypredict) (3.5.0)\n",
            "Requirement already satisfied: nvidia-nccl-cu12 in /usr/local/lib/python3.10/dist-packages (from xgboost->lazypredict) (2.22.3)\n",
            "Requirement already satisfied: six>=1.5 in /usr/local/lib/python3.10/dist-packages (from python-dateutil>=2.8.2->pandas->lazypredict) (1.16.0)\n",
            "Downloading lazypredict-0.2.12-py2.py3-none-any.whl (12 kB)\n",
            "Installing collected packages: lazypredict\n",
            "Successfully installed lazypredict-0.2.12\n"
          ]
        }
      ]
    },
    {
      "cell_type": "code",
      "source": [
        "# Import packages\n",
        "import os\n",
        "import numpy as np\n",
        "import pandas as pd\n",
        "import opendatasets as od\n",
        "import lazypredict\n",
        "from lazypredict.Supervised import LazyClassifier\n",
        "from sklearn.model_selection import train_test_split\n",
        "from sklearn.ensemble import RandomForestClassifier # for Random Forest Classifier\n",
        "from sklearn.metrics import accuracy_score, confusion_matrix, precision_score, recall_score, ConfusionMatrixDisplay\n",
        "from sklearn.tree import export_graphviz\n",
        "from IPython.display import Image\n",
        "import graphviz"
      ],
      "metadata": {
        "id": "vW05JwECPI_k",
        "colab": {
          "base_uri": "https://localhost:8080/"
        },
        "outputId": "4feb23f5-4806-490f-9b1b-d4f0c867d063"
      },
      "id": "vW05JwECPI_k",
      "execution_count": 4,
      "outputs": [
        {
          "output_type": "stream",
          "name": "stderr",
          "text": [
            "/usr/local/lib/python3.10/dist-packages/dask/dataframe/__init__.py:42: FutureWarning: \n",
            "Dask dataframe query planning is disabled because dask-expr is not installed.\n",
            "\n",
            "You can install it with `pip install dask[dataframe]` or `conda install dask`.\n",
            "This will raise in a future version.\n",
            "\n",
            "  warnings.warn(msg, FutureWarning)\n"
          ]
        }
      ]
    },
    {
      "cell_type": "markdown",
      "id": "d33feb7a-68b3-4861-b029-5c6401ecbbf6",
      "metadata": {
        "id": "d33feb7a-68b3-4861-b029-5c6401ecbbf6"
      },
      "source": [
        "#### Step 1) Load data\n",
        "\n",
        "**Rural Maternal Health Risk Dataset to predict health risks in pregnant patients**\n",
        "\n",
        "The following dataset has been collected from different hospitals, community clinics, maternal health cares through the use of portable risk monitoring devices.\n",
        "\n",
        "Inputs:\n",
        "*   Age: This refers to a woman's age in years during pregnancy.\n",
        "*   SystolicBP: This is the higher blood pressure reading, measured in mmHg, and is an important indicator during pregnancy.\n",
        "*   DiastolicBP: This is the lower blood pressure reading, also measured in mmHg, and is crucial during pregnancy.\n",
        "*   BS: This indicates blood glucose levels, expressed in mmol/L.\n",
        "*   HeartRate: This is the typical resting heart rate, counted in beats per minute.\n",
        "\n",
        "Outputs:\n",
        "*   Risk Level: This denotes the predicted intensity of risk during pregnancy based on the above attributes.\n",
        "\n",
        "\n",
        "\n",
        "References:\n",
        "\n",
        "1.   Ahmed, M., Kashem, M.A., Rahman, M. and Khatun, S., 2020. Review and analysis of risk factor of maternal health in remote area using the Internet of Things (IoT). In InECCE2019: Proceedings of the 5th International Conference on Electrical, Control & Computer Engineering, Kuantan, Pahang, Malaysia, 29th July 2019 (pp. 357-365). Springer Singapore.\n",
        "\n",
        "2.   Ahmed, M. and Kashem, M.A., 2020, December. IoT based risk level prediction model for maternal health care in the context of Bangladesh. In 2020 2nd International Conference on Sustainable Technologies for Industry 4.0 (STI) (pp. 1-6). IEEE.\n",
        "\n"
      ]
    },
    {
      "cell_type": "code",
      "source": [
        "# Make sure you have a kaggle account and an API Key\n",
        "# Assign the Kaggle data set URL into variable\n",
        "dataset = 'https://www.kaggle.com/datasets/csafrit2/maternal-health-risk-data'\n",
        "# Using opendatasets let's download the data sets\n",
        "od.download(dataset)"
      ],
      "metadata": {
        "id": "PNosP70COq7y",
        "colab": {
          "base_uri": "https://localhost:8080/"
        },
        "outputId": "aaff021d-ac63-4abe-b9af-63b13649f5a7"
      },
      "id": "PNosP70COq7y",
      "execution_count": 5,
      "outputs": [
        {
          "output_type": "stream",
          "name": "stdout",
          "text": [
            "Please provide your Kaggle credentials to download this dataset. Learn more: http://bit.ly/kaggle-creds\n",
            "Your Kaggle username: Yuanyun Hu\n",
            "Your Kaggle Key: ··········\n",
            "Dataset URL: https://www.kaggle.com/datasets/csafrit2/maternal-health-risk-data\n",
            "Downloading maternal-health-risk-data.zip to ./maternal-health-risk-data\n"
          ]
        },
        {
          "output_type": "stream",
          "name": "stderr",
          "text": [
            "100%|██████████| 3.77k/3.77k [00:00<00:00, 8.23MB/s]"
          ]
        },
        {
          "output_type": "stream",
          "name": "stdout",
          "text": [
            "\n"
          ]
        },
        {
          "output_type": "stream",
          "name": "stderr",
          "text": [
            "\n"
          ]
        }
      ]
    },
    {
      "cell_type": "code",
      "source": [
        "# Define the path to the dataset folder\n",
        "dataset_folder_path = \"/content/maternal-health-risk-data\"\n",
        "\n",
        "# Load CSV file to pandas from path\n",
        "# Change the path to the CSV file if you have it your Google Drive\n",
        "csv_path = dataset_folder_path + \"/Maternal Health Risk Data Set.csv\"\n",
        "\n",
        "# Read the CSV file into a Pandas DataFrame\n",
        "df = pd.read_csv(csv_path)\n",
        "\n",
        "# Print the DataFrame\n",
        "print(df)"
      ],
      "metadata": {
        "id": "sxSrekXROs2e",
        "colab": {
          "base_uri": "https://localhost:8080/"
        },
        "outputId": "1447c26e-a2cc-4af6-e3f1-a58335611ca4"
      },
      "id": "sxSrekXROs2e",
      "execution_count": 6,
      "outputs": [
        {
          "output_type": "stream",
          "name": "stdout",
          "text": [
            "      Age  SystolicBP  DiastolicBP    BS  BodyTemp  HeartRate  RiskLevel\n",
            "0      25         130           80 15.00     98.00         86  high risk\n",
            "1      35         140           90 13.00     98.00         70  high risk\n",
            "2      29          90           70  8.00    100.00         80  high risk\n",
            "3      30         140           85  7.00     98.00         70  high risk\n",
            "4      35         120           60  6.10     98.00         76   low risk\n",
            "...   ...         ...          ...   ...       ...        ...        ...\n",
            "1009   22         120           60 15.00     98.00         80  high risk\n",
            "1010   55         120           90 18.00     98.00         60  high risk\n",
            "1011   35          85           60 19.00     98.00         86  high risk\n",
            "1012   43         120           90 18.00     98.00         70  high risk\n",
            "1013   32         120           65  6.00    101.00         76   mid risk\n",
            "\n",
            "[1014 rows x 7 columns]\n"
          ]
        }
      ]
    },
    {
      "cell_type": "markdown",
      "id": "883003ea-f38d-465c-a21c-5458095b0ebb",
      "metadata": {
        "id": "883003ea-f38d-465c-a21c-5458095b0ebb"
      },
      "source": [
        "------------------------------------------------------"
      ]
    },
    {
      "cell_type": "markdown",
      "id": "91c0a245-5ace-4c0a-8fb0-dfbdc21ea967",
      "metadata": {
        "id": "91c0a245-5ace-4c0a-8fb0-dfbdc21ea967"
      },
      "source": [
        "#### Step 2) Screen over various baseline machine learning models with Lazypredict\n",
        "**Lazy Predict** is designed to make life easier for data scientists and machine learning enthusiasts. It automates the tedious task of model fitting and comparison, allowing you to quickly assess a wide range of models with minimal code. Lazy Predict helps build a lot of basic models without much code and helps understand which models works better without any parameter tuning across classification and regression problems.\n",
        "\n",
        "*   For **classification** Lazypredict includes:\n",
        "\n",
        "      LinearSVC, SGDClassifier, MLPClassifier, Perceptron, LogisticRegression, LogisticRegressionCV, SVC, CalibratedClassifierCV, PassiveAggressiveClassifier, LabelPropagation, LabelSpreading, RandomForestClassifier, etc. See Documentation here https://lazypredict.readthedocs.io.\n",
        "\n",
        "*   For **regression** Lazypredict includes:\n",
        "\n",
        "      SVR, RandomForestRegressor, ExtraTreesRegressor, AdaBoostRegressor, NuSVR, GradientBoostingRegressor, KNeighborsRegressor, SGDRegressor, etc. See Documentation here https://lazypredict.readthedocs.io."
      ]
    },
    {
      "cell_type": "code",
      "source": [
        "'''\n",
        "Fill the in the missing code marked as # TO DO\n",
        "'''"
      ],
      "metadata": {
        "id": "yOjBBs54a5tM"
      },
      "id": "yOjBBs54a5tM",
      "execution_count": null,
      "outputs": []
    },
    {
      "cell_type": "code",
      "source": [
        "# Load the dataset, split into input (X) and output (y) variables\n",
        "X = df.drop('RiskLevel',axis=1) # TO DO\n",
        "y = df['RiskLevel']# TO DO"
      ],
      "metadata": {
        "id": "hus6kmOplV2O"
      },
      "id": "hus6kmOplV2O",
      "execution_count": 7,
      "outputs": []
    },
    {
      "cell_type": "code",
      "source": [
        "# Split dataset\n",
        "X_train, X_test, y_train, y_test = train_test_split(X,y, test_size=0.2, random_state=42)# TO DO"
      ],
      "metadata": {
        "id": "B6BswwTznMyl"
      },
      "id": "B6BswwTznMyl",
      "execution_count": 10,
      "outputs": []
    },
    {
      "cell_type": "code",
      "source": [
        "# Display dictionary of Input dataframe\n",
        "X.describe().transpose()"
      ],
      "metadata": {
        "id": "rXoGKPpFl3UP",
        "colab": {
          "base_uri": "https://localhost:8080/",
          "height": 238
        },
        "outputId": "4311c217-e0ae-4932-9133-9fa97c32487e"
      },
      "id": "rXoGKPpFl3UP",
      "execution_count": 11,
      "outputs": [
        {
          "output_type": "execute_result",
          "data": {
            "text/plain": [
              "              count   mean   std   min    25%    50%    75%    max\n",
              "Age         1014.00  29.87 13.47 10.00  19.00  26.00  39.00  70.00\n",
              "SystolicBP  1014.00 113.20 18.40 70.00 100.00 120.00 120.00 160.00\n",
              "DiastolicBP 1014.00  76.46 13.89 49.00  65.00  80.00  90.00 100.00\n",
              "BS          1014.00   8.73  3.29  6.00   6.90   7.50   8.00  19.00\n",
              "BodyTemp    1014.00  98.67  1.37 98.00  98.00  98.00  98.00 103.00\n",
              "HeartRate   1014.00  74.30  8.09  7.00  70.00  76.00  80.00  90.00"
            ],
            "text/html": [
              "\n",
              "  <div id=\"df-37f4a399-a288-4678-ab0e-0fe79cd83b0a\" class=\"colab-df-container\">\n",
              "    <div>\n",
              "<style scoped>\n",
              "    .dataframe tbody tr th:only-of-type {\n",
              "        vertical-align: middle;\n",
              "    }\n",
              "\n",
              "    .dataframe tbody tr th {\n",
              "        vertical-align: top;\n",
              "    }\n",
              "\n",
              "    .dataframe thead th {\n",
              "        text-align: right;\n",
              "    }\n",
              "</style>\n",
              "<table border=\"1\" class=\"dataframe\">\n",
              "  <thead>\n",
              "    <tr style=\"text-align: right;\">\n",
              "      <th></th>\n",
              "      <th>count</th>\n",
              "      <th>mean</th>\n",
              "      <th>std</th>\n",
              "      <th>min</th>\n",
              "      <th>25%</th>\n",
              "      <th>50%</th>\n",
              "      <th>75%</th>\n",
              "      <th>max</th>\n",
              "    </tr>\n",
              "  </thead>\n",
              "  <tbody>\n",
              "    <tr>\n",
              "      <th>Age</th>\n",
              "      <td>1014.00</td>\n",
              "      <td>29.87</td>\n",
              "      <td>13.47</td>\n",
              "      <td>10.00</td>\n",
              "      <td>19.00</td>\n",
              "      <td>26.00</td>\n",
              "      <td>39.00</td>\n",
              "      <td>70.00</td>\n",
              "    </tr>\n",
              "    <tr>\n",
              "      <th>SystolicBP</th>\n",
              "      <td>1014.00</td>\n",
              "      <td>113.20</td>\n",
              "      <td>18.40</td>\n",
              "      <td>70.00</td>\n",
              "      <td>100.00</td>\n",
              "      <td>120.00</td>\n",
              "      <td>120.00</td>\n",
              "      <td>160.00</td>\n",
              "    </tr>\n",
              "    <tr>\n",
              "      <th>DiastolicBP</th>\n",
              "      <td>1014.00</td>\n",
              "      <td>76.46</td>\n",
              "      <td>13.89</td>\n",
              "      <td>49.00</td>\n",
              "      <td>65.00</td>\n",
              "      <td>80.00</td>\n",
              "      <td>90.00</td>\n",
              "      <td>100.00</td>\n",
              "    </tr>\n",
              "    <tr>\n",
              "      <th>BS</th>\n",
              "      <td>1014.00</td>\n",
              "      <td>8.73</td>\n",
              "      <td>3.29</td>\n",
              "      <td>6.00</td>\n",
              "      <td>6.90</td>\n",
              "      <td>7.50</td>\n",
              "      <td>8.00</td>\n",
              "      <td>19.00</td>\n",
              "    </tr>\n",
              "    <tr>\n",
              "      <th>BodyTemp</th>\n",
              "      <td>1014.00</td>\n",
              "      <td>98.67</td>\n",
              "      <td>1.37</td>\n",
              "      <td>98.00</td>\n",
              "      <td>98.00</td>\n",
              "      <td>98.00</td>\n",
              "      <td>98.00</td>\n",
              "      <td>103.00</td>\n",
              "    </tr>\n",
              "    <tr>\n",
              "      <th>HeartRate</th>\n",
              "      <td>1014.00</td>\n",
              "      <td>74.30</td>\n",
              "      <td>8.09</td>\n",
              "      <td>7.00</td>\n",
              "      <td>70.00</td>\n",
              "      <td>76.00</td>\n",
              "      <td>80.00</td>\n",
              "      <td>90.00</td>\n",
              "    </tr>\n",
              "  </tbody>\n",
              "</table>\n",
              "</div>\n",
              "    <div class=\"colab-df-buttons\">\n",
              "\n",
              "  <div class=\"colab-df-container\">\n",
              "    <button class=\"colab-df-convert\" onclick=\"convertToInteractive('df-37f4a399-a288-4678-ab0e-0fe79cd83b0a')\"\n",
              "            title=\"Convert this dataframe to an interactive table.\"\n",
              "            style=\"display:none;\">\n",
              "\n",
              "  <svg xmlns=\"http://www.w3.org/2000/svg\" height=\"24px\" viewBox=\"0 -960 960 960\">\n",
              "    <path d=\"M120-120v-720h720v720H120Zm60-500h600v-160H180v160Zm220 220h160v-160H400v160Zm0 220h160v-160H400v160ZM180-400h160v-160H180v160Zm440 0h160v-160H620v160ZM180-180h160v-160H180v160Zm440 0h160v-160H620v160Z\"/>\n",
              "  </svg>\n",
              "    </button>\n",
              "\n",
              "  <style>\n",
              "    .colab-df-container {\n",
              "      display:flex;\n",
              "      gap: 12px;\n",
              "    }\n",
              "\n",
              "    .colab-df-convert {\n",
              "      background-color: #E8F0FE;\n",
              "      border: none;\n",
              "      border-radius: 50%;\n",
              "      cursor: pointer;\n",
              "      display: none;\n",
              "      fill: #1967D2;\n",
              "      height: 32px;\n",
              "      padding: 0 0 0 0;\n",
              "      width: 32px;\n",
              "    }\n",
              "\n",
              "    .colab-df-convert:hover {\n",
              "      background-color: #E2EBFA;\n",
              "      box-shadow: 0px 1px 2px rgba(60, 64, 67, 0.3), 0px 1px 3px 1px rgba(60, 64, 67, 0.15);\n",
              "      fill: #174EA6;\n",
              "    }\n",
              "\n",
              "    .colab-df-buttons div {\n",
              "      margin-bottom: 4px;\n",
              "    }\n",
              "\n",
              "    [theme=dark] .colab-df-convert {\n",
              "      background-color: #3B4455;\n",
              "      fill: #D2E3FC;\n",
              "    }\n",
              "\n",
              "    [theme=dark] .colab-df-convert:hover {\n",
              "      background-color: #434B5C;\n",
              "      box-shadow: 0px 1px 3px 1px rgba(0, 0, 0, 0.15);\n",
              "      filter: drop-shadow(0px 1px 2px rgba(0, 0, 0, 0.3));\n",
              "      fill: #FFFFFF;\n",
              "    }\n",
              "  </style>\n",
              "\n",
              "    <script>\n",
              "      const buttonEl =\n",
              "        document.querySelector('#df-37f4a399-a288-4678-ab0e-0fe79cd83b0a button.colab-df-convert');\n",
              "      buttonEl.style.display =\n",
              "        google.colab.kernel.accessAllowed ? 'block' : 'none';\n",
              "\n",
              "      async function convertToInteractive(key) {\n",
              "        const element = document.querySelector('#df-37f4a399-a288-4678-ab0e-0fe79cd83b0a');\n",
              "        const dataTable =\n",
              "          await google.colab.kernel.invokeFunction('convertToInteractive',\n",
              "                                                    [key], {});\n",
              "        if (!dataTable) return;\n",
              "\n",
              "        const docLinkHtml = 'Like what you see? Visit the ' +\n",
              "          '<a target=\"_blank\" href=https://colab.research.google.com/notebooks/data_table.ipynb>data table notebook</a>'\n",
              "          + ' to learn more about interactive tables.';\n",
              "        element.innerHTML = '';\n",
              "        dataTable['output_type'] = 'display_data';\n",
              "        await google.colab.output.renderOutput(dataTable, element);\n",
              "        const docLink = document.createElement('div');\n",
              "        docLink.innerHTML = docLinkHtml;\n",
              "        element.appendChild(docLink);\n",
              "      }\n",
              "    </script>\n",
              "  </div>\n",
              "\n",
              "\n",
              "<div id=\"df-4072de21-6f4e-4a5b-8dd6-0dbef7be7991\">\n",
              "  <button class=\"colab-df-quickchart\" onclick=\"quickchart('df-4072de21-6f4e-4a5b-8dd6-0dbef7be7991')\"\n",
              "            title=\"Suggest charts\"\n",
              "            style=\"display:none;\">\n",
              "\n",
              "<svg xmlns=\"http://www.w3.org/2000/svg\" height=\"24px\"viewBox=\"0 0 24 24\"\n",
              "     width=\"24px\">\n",
              "    <g>\n",
              "        <path d=\"M19 3H5c-1.1 0-2 .9-2 2v14c0 1.1.9 2 2 2h14c1.1 0 2-.9 2-2V5c0-1.1-.9-2-2-2zM9 17H7v-7h2v7zm4 0h-2V7h2v10zm4 0h-2v-4h2v4z\"/>\n",
              "    </g>\n",
              "</svg>\n",
              "  </button>\n",
              "\n",
              "<style>\n",
              "  .colab-df-quickchart {\n",
              "      --bg-color: #E8F0FE;\n",
              "      --fill-color: #1967D2;\n",
              "      --hover-bg-color: #E2EBFA;\n",
              "      --hover-fill-color: #174EA6;\n",
              "      --disabled-fill-color: #AAA;\n",
              "      --disabled-bg-color: #DDD;\n",
              "  }\n",
              "\n",
              "  [theme=dark] .colab-df-quickchart {\n",
              "      --bg-color: #3B4455;\n",
              "      --fill-color: #D2E3FC;\n",
              "      --hover-bg-color: #434B5C;\n",
              "      --hover-fill-color: #FFFFFF;\n",
              "      --disabled-bg-color: #3B4455;\n",
              "      --disabled-fill-color: #666;\n",
              "  }\n",
              "\n",
              "  .colab-df-quickchart {\n",
              "    background-color: var(--bg-color);\n",
              "    border: none;\n",
              "    border-radius: 50%;\n",
              "    cursor: pointer;\n",
              "    display: none;\n",
              "    fill: var(--fill-color);\n",
              "    height: 32px;\n",
              "    padding: 0;\n",
              "    width: 32px;\n",
              "  }\n",
              "\n",
              "  .colab-df-quickchart:hover {\n",
              "    background-color: var(--hover-bg-color);\n",
              "    box-shadow: 0 1px 2px rgba(60, 64, 67, 0.3), 0 1px 3px 1px rgba(60, 64, 67, 0.15);\n",
              "    fill: var(--button-hover-fill-color);\n",
              "  }\n",
              "\n",
              "  .colab-df-quickchart-complete:disabled,\n",
              "  .colab-df-quickchart-complete:disabled:hover {\n",
              "    background-color: var(--disabled-bg-color);\n",
              "    fill: var(--disabled-fill-color);\n",
              "    box-shadow: none;\n",
              "  }\n",
              "\n",
              "  .colab-df-spinner {\n",
              "    border: 2px solid var(--fill-color);\n",
              "    border-color: transparent;\n",
              "    border-bottom-color: var(--fill-color);\n",
              "    animation:\n",
              "      spin 1s steps(1) infinite;\n",
              "  }\n",
              "\n",
              "  @keyframes spin {\n",
              "    0% {\n",
              "      border-color: transparent;\n",
              "      border-bottom-color: var(--fill-color);\n",
              "      border-left-color: var(--fill-color);\n",
              "    }\n",
              "    20% {\n",
              "      border-color: transparent;\n",
              "      border-left-color: var(--fill-color);\n",
              "      border-top-color: var(--fill-color);\n",
              "    }\n",
              "    30% {\n",
              "      border-color: transparent;\n",
              "      border-left-color: var(--fill-color);\n",
              "      border-top-color: var(--fill-color);\n",
              "      border-right-color: var(--fill-color);\n",
              "    }\n",
              "    40% {\n",
              "      border-color: transparent;\n",
              "      border-right-color: var(--fill-color);\n",
              "      border-top-color: var(--fill-color);\n",
              "    }\n",
              "    60% {\n",
              "      border-color: transparent;\n",
              "      border-right-color: var(--fill-color);\n",
              "    }\n",
              "    80% {\n",
              "      border-color: transparent;\n",
              "      border-right-color: var(--fill-color);\n",
              "      border-bottom-color: var(--fill-color);\n",
              "    }\n",
              "    90% {\n",
              "      border-color: transparent;\n",
              "      border-bottom-color: var(--fill-color);\n",
              "    }\n",
              "  }\n",
              "</style>\n",
              "\n",
              "  <script>\n",
              "    async function quickchart(key) {\n",
              "      const quickchartButtonEl =\n",
              "        document.querySelector('#' + key + ' button');\n",
              "      quickchartButtonEl.disabled = true;  // To prevent multiple clicks.\n",
              "      quickchartButtonEl.classList.add('colab-df-spinner');\n",
              "      try {\n",
              "        const charts = await google.colab.kernel.invokeFunction(\n",
              "            'suggestCharts', [key], {});\n",
              "      } catch (error) {\n",
              "        console.error('Error during call to suggestCharts:', error);\n",
              "      }\n",
              "      quickchartButtonEl.classList.remove('colab-df-spinner');\n",
              "      quickchartButtonEl.classList.add('colab-df-quickchart-complete');\n",
              "    }\n",
              "    (() => {\n",
              "      let quickchartButtonEl =\n",
              "        document.querySelector('#df-4072de21-6f4e-4a5b-8dd6-0dbef7be7991 button');\n",
              "      quickchartButtonEl.style.display =\n",
              "        google.colab.kernel.accessAllowed ? 'block' : 'none';\n",
              "    })();\n",
              "  </script>\n",
              "</div>\n",
              "\n",
              "    </div>\n",
              "  </div>\n"
            ],
            "application/vnd.google.colaboratory.intrinsic+json": {
              "type": "dataframe",
              "summary": "{\n  \"name\": \"X\",\n  \"rows\": 6,\n  \"fields\": [\n    {\n      \"column\": \"count\",\n      \"properties\": {\n        \"dtype\": \"number\",\n        \"std\": 0.0,\n        \"min\": 1014.0,\n        \"max\": 1014.0,\n        \"num_unique_values\": 1,\n        \"samples\": [\n          1014.0\n        ],\n        \"semantic_type\": \"\",\n        \"description\": \"\"\n      }\n    },\n    {\n      \"column\": \"mean\",\n      \"properties\": {\n        \"dtype\": \"number\",\n        \"std\": 40.134861614325935,\n        \"min\": 8.725986193293886,\n        \"max\": 113.19822485207101,\n        \"num_unique_values\": 6,\n        \"samples\": [\n          29.871794871794872\n        ],\n        \"semantic_type\": \"\",\n        \"description\": \"\"\n      }\n    },\n    {\n      \"column\": \"std\",\n      \"properties\": {\n        \"dtype\": \"number\",\n        \"std\": 6.640980351301993,\n        \"min\": 1.3713843755995376,\n        \"max\": 18.403912756342706,\n        \"num_unique_values\": 6,\n        \"samples\": [\n          13.474385532634372\n        ],\n        \"semantic_type\": \"\",\n        \"description\": \"\"\n      }\n    },\n    {\n      \"column\": \"min\",\n      \"properties\": {\n        \"dtype\": \"number\",\n        \"std\": 38.704004960727254,\n        \"min\": 6.0,\n        \"max\": 98.0,\n        \"num_unique_values\": 6,\n        \"samples\": [\n          10.0\n        ],\n        \"semantic_type\": \"\",\n        \"description\": \"\"\n      }\n    },\n    {\n      \"column\": \"25%\",\n      \"properties\": {\n        \"dtype\": \"number\",\n        \"std\": 39.16480137402291,\n        \"min\": 6.9,\n        \"max\": 100.0,\n        \"num_unique_values\": 6,\n        \"samples\": [\n          19.0\n        ],\n        \"semantic_type\": \"\",\n        \"description\": \"\"\n      }\n    },\n    {\n      \"column\": \"50%\",\n      \"properties\": {\n        \"dtype\": \"number\",\n        \"std\": 42.97954940046099,\n        \"min\": 7.5,\n        \"max\": 120.0,\n        \"num_unique_values\": 6,\n        \"samples\": [\n          26.0\n        ],\n        \"semantic_type\": \"\",\n        \"description\": \"\"\n      }\n    },\n    {\n      \"column\": \"75%\",\n      \"properties\": {\n        \"dtype\": \"number\",\n        \"std\": 41.3557734784395,\n        \"min\": 8.0,\n        \"max\": 120.0,\n        \"num_unique_values\": 6,\n        \"samples\": [\n          39.0\n        ],\n        \"semantic_type\": \"\",\n        \"description\": \"\"\n      }\n    },\n    {\n      \"column\": \"max\",\n      \"properties\": {\n        \"dtype\": \"number\",\n        \"std\": 46.0637239774062,\n        \"min\": 19.0,\n        \"max\": 160.0,\n        \"num_unique_values\": 6,\n        \"samples\": [\n          70.0\n        ],\n        \"semantic_type\": \"\",\n        \"description\": \"\"\n      }\n    }\n  ]\n}"
            }
          },
          "metadata": {},
          "execution_count": 11
        }
      ]
    },
    {
      "cell_type": "code",
      "source": [
        "# Display dictionary of Output dataframe\n",
        "y.describe().transpose()"
      ],
      "metadata": {
        "id": "4q1jm6hZl4FX",
        "colab": {
          "base_uri": "https://localhost:8080/",
          "height": 210
        },
        "outputId": "56a4a9ba-4da5-46c4-9f7c-5dfa1e9a40e0"
      },
      "id": "4q1jm6hZl4FX",
      "execution_count": 12,
      "outputs": [
        {
          "output_type": "execute_result",
          "data": {
            "text/plain": [
              "count         1014\n",
              "unique           3\n",
              "top       low risk\n",
              "freq           406\n",
              "Name: RiskLevel, dtype: object"
            ],
            "text/html": [
              "<div>\n",
              "<style scoped>\n",
              "    .dataframe tbody tr th:only-of-type {\n",
              "        vertical-align: middle;\n",
              "    }\n",
              "\n",
              "    .dataframe tbody tr th {\n",
              "        vertical-align: top;\n",
              "    }\n",
              "\n",
              "    .dataframe thead th {\n",
              "        text-align: right;\n",
              "    }\n",
              "</style>\n",
              "<table border=\"1\" class=\"dataframe\">\n",
              "  <thead>\n",
              "    <tr style=\"text-align: right;\">\n",
              "      <th></th>\n",
              "      <th>RiskLevel</th>\n",
              "    </tr>\n",
              "  </thead>\n",
              "  <tbody>\n",
              "    <tr>\n",
              "      <th>count</th>\n",
              "      <td>1014</td>\n",
              "    </tr>\n",
              "    <tr>\n",
              "      <th>unique</th>\n",
              "      <td>3</td>\n",
              "    </tr>\n",
              "    <tr>\n",
              "      <th>top</th>\n",
              "      <td>low risk</td>\n",
              "    </tr>\n",
              "    <tr>\n",
              "      <th>freq</th>\n",
              "      <td>406</td>\n",
              "    </tr>\n",
              "  </tbody>\n",
              "</table>\n",
              "</div><br><label><b>dtype:</b> object</label>"
            ]
          },
          "metadata": {},
          "execution_count": 12
        }
      ]
    },
    {
      "cell_type": "code",
      "execution_count": 13,
      "id": "d2fb5698-b0b5-4734-8237-65b000b3c117",
      "metadata": {
        "id": "d2fb5698-b0b5-4734-8237-65b000b3c117",
        "colab": {
          "base_uri": "https://localhost:8080/"
        },
        "collapsed": true,
        "outputId": "65c241b7-b5ae-428d-bef8-34d095142808"
      },
      "outputs": [
        {
          "output_type": "stream",
          "name": "stderr",
          "text": [
            " 93%|█████████▎| 27/29 [00:03<00:00,  9.13it/s]"
          ]
        },
        {
          "output_type": "stream",
          "name": "stdout",
          "text": [
            "[LightGBM] [Info] Auto-choosing col-wise multi-threading, the overhead of testing was 0.000296 seconds.\n",
            "You can set `force_col_wise=true` to remove the overhead.\n",
            "[LightGBM] [Info] Total Bins 118\n",
            "[LightGBM] [Info] Number of data points in the train set: 811, number of used features: 6\n",
            "[LightGBM] [Info] Start training from score -1.282168\n",
            "[LightGBM] [Info] Start training from score -0.911371\n",
            "[LightGBM] [Info] Start training from score -1.137586\n",
            "[LightGBM] [Warning] No further splits with positive gain, best gain: -inf\n",
            "[LightGBM] [Warning] No further splits with positive gain, best gain: -inf\n",
            "[LightGBM] [Warning] No further splits with positive gain, best gain: -inf\n",
            "[LightGBM] [Warning] No further splits with positive gain, best gain: -inf\n",
            "[LightGBM] [Warning] No further splits with positive gain, best gain: -inf\n",
            "[LightGBM] [Warning] No further splits with positive gain, best gain: -inf\n",
            "[LightGBM] [Warning] No further splits with positive gain, best gain: -inf\n",
            "[LightGBM] [Warning] No further splits with positive gain, best gain: -inf\n",
            "[LightGBM] [Warning] No further splits with positive gain, best gain: -inf\n",
            "[LightGBM] [Warning] No further splits with positive gain, best gain: -inf\n",
            "[LightGBM] [Warning] No further splits with positive gain, best gain: -inf\n",
            "[LightGBM] [Warning] No further splits with positive gain, best gain: -inf\n",
            "[LightGBM] [Warning] No further splits with positive gain, best gain: -inf\n",
            "[LightGBM] [Warning] No further splits with positive gain, best gain: -inf\n",
            "[LightGBM] [Warning] No further splits with positive gain, best gain: -inf\n",
            "[LightGBM] [Warning] No further splits with positive gain, best gain: -inf\n",
            "[LightGBM] [Warning] No further splits with positive gain, best gain: -inf\n",
            "[LightGBM] [Warning] No further splits with positive gain, best gain: -inf\n",
            "[LightGBM] [Warning] No further splits with positive gain, best gain: -inf\n",
            "[LightGBM] [Warning] No further splits with positive gain, best gain: -inf\n",
            "[LightGBM] [Warning] No further splits with positive gain, best gain: -inf\n",
            "[LightGBM] [Warning] No further splits with positive gain, best gain: -inf\n",
            "[LightGBM] [Warning] No further splits with positive gain, best gain: -inf\n",
            "[LightGBM] [Warning] No further splits with positive gain, best gain: -inf\n",
            "[LightGBM] [Warning] No further splits with positive gain, best gain: -inf\n",
            "[LightGBM] [Warning] No further splits with positive gain, best gain: -inf\n",
            "[LightGBM] [Warning] No further splits with positive gain, best gain: -inf\n",
            "[LightGBM] [Warning] No further splits with positive gain, best gain: -inf\n",
            "[LightGBM] [Warning] No further splits with positive gain, best gain: -inf\n",
            "[LightGBM] [Warning] No further splits with positive gain, best gain: -inf\n",
            "[LightGBM] [Warning] No further splits with positive gain, best gain: -inf\n",
            "[LightGBM] [Warning] No further splits with positive gain, best gain: -inf\n",
            "[LightGBM] [Warning] No further splits with positive gain, best gain: -inf\n",
            "[LightGBM] [Warning] No further splits with positive gain, best gain: -inf\n",
            "[LightGBM] [Warning] No further splits with positive gain, best gain: -inf\n",
            "[LightGBM] [Warning] No further splits with positive gain, best gain: -inf\n",
            "[LightGBM] [Warning] No further splits with positive gain, best gain: -inf\n",
            "[LightGBM] [Warning] No further splits with positive gain, best gain: -inf\n",
            "[LightGBM] [Warning] No further splits with positive gain, best gain: -inf\n",
            "[LightGBM] [Warning] No further splits with positive gain, best gain: -inf\n",
            "[LightGBM] [Warning] No further splits with positive gain, best gain: -inf\n",
            "[LightGBM] [Warning] No further splits with positive gain, best gain: -inf\n",
            "[LightGBM] [Warning] No further splits with positive gain, best gain: -inf\n",
            "[LightGBM] [Warning] No further splits with positive gain, best gain: -inf\n",
            "[LightGBM] [Warning] No further splits with positive gain, best gain: -inf\n",
            "[LightGBM] [Warning] No further splits with positive gain, best gain: -inf\n",
            "[LightGBM] [Warning] No further splits with positive gain, best gain: -inf\n",
            "[LightGBM] [Warning] No further splits with positive gain, best gain: -inf\n",
            "[LightGBM] [Warning] No further splits with positive gain, best gain: -inf\n",
            "[LightGBM] [Warning] No further splits with positive gain, best gain: -inf\n",
            "[LightGBM] [Warning] No further splits with positive gain, best gain: -inf\n",
            "[LightGBM] [Warning] No further splits with positive gain, best gain: -inf\n",
            "[LightGBM] [Warning] No further splits with positive gain, best gain: -inf\n",
            "[LightGBM] [Warning] No further splits with positive gain, best gain: -inf\n",
            "[LightGBM] [Warning] No further splits with positive gain, best gain: -inf\n",
            "[LightGBM] [Warning] No further splits with positive gain, best gain: -inf\n",
            "[LightGBM] [Warning] No further splits with positive gain, best gain: -inf\n",
            "[LightGBM] [Warning] No further splits with positive gain, best gain: -inf\n",
            "[LightGBM] [Warning] No further splits with positive gain, best gain: -inf\n",
            "[LightGBM] [Warning] No further splits with positive gain, best gain: -inf\n",
            "[LightGBM] [Warning] No further splits with positive gain, best gain: -inf\n",
            "[LightGBM] [Warning] No further splits with positive gain, best gain: -inf\n",
            "[LightGBM] [Warning] No further splits with positive gain, best gain: -inf\n",
            "[LightGBM] [Warning] No further splits with positive gain, best gain: -inf\n",
            "[LightGBM] [Warning] No further splits with positive gain, best gain: -inf\n",
            "[LightGBM] [Warning] No further splits with positive gain, best gain: -inf\n",
            "[LightGBM] [Warning] No further splits with positive gain, best gain: -inf\n",
            "[LightGBM] [Warning] No further splits with positive gain, best gain: -inf\n",
            "[LightGBM] [Warning] No further splits with positive gain, best gain: -inf\n",
            "[LightGBM] [Warning] No further splits with positive gain, best gain: -inf\n",
            "[LightGBM] [Warning] No further splits with positive gain, best gain: -inf\n",
            "[LightGBM] [Warning] No further splits with positive gain, best gain: -inf\n",
            "[LightGBM] [Warning] No further splits with positive gain, best gain: -inf\n",
            "[LightGBM] [Warning] No further splits with positive gain, best gain: -inf\n",
            "[LightGBM] [Warning] No further splits with positive gain, best gain: -inf\n",
            "[LightGBM] [Warning] No further splits with positive gain, best gain: -inf\n",
            "[LightGBM] [Warning] No further splits with positive gain, best gain: -inf\n",
            "[LightGBM] [Warning] No further splits with positive gain, best gain: -inf\n",
            "[LightGBM] [Warning] No further splits with positive gain, best gain: -inf\n",
            "[LightGBM] [Warning] No further splits with positive gain, best gain: -inf\n",
            "[LightGBM] [Warning] No further splits with positive gain, best gain: -inf\n",
            "[LightGBM] [Warning] No further splits with positive gain, best gain: -inf\n",
            "[LightGBM] [Warning] No further splits with positive gain, best gain: -inf\n",
            "[LightGBM] [Warning] No further splits with positive gain, best gain: -inf\n",
            "[LightGBM] [Warning] No further splits with positive gain, best gain: -inf\n",
            "[LightGBM] [Warning] No further splits with positive gain, best gain: -inf\n",
            "[LightGBM] [Warning] No further splits with positive gain, best gain: -inf\n",
            "[LightGBM] [Warning] No further splits with positive gain, best gain: -inf\n",
            "[LightGBM] [Warning] No further splits with positive gain, best gain: -inf\n",
            "[LightGBM] [Warning] No further splits with positive gain, best gain: -inf\n",
            "[LightGBM] [Warning] No further splits with positive gain, best gain: -inf\n",
            "[LightGBM] [Warning] No further splits with positive gain, best gain: -inf\n",
            "[LightGBM] [Warning] No further splits with positive gain, best gain: -inf\n",
            "[LightGBM] [Warning] No further splits with positive gain, best gain: -inf\n",
            "[LightGBM] [Warning] No further splits with positive gain, best gain: -inf\n",
            "[LightGBM] [Warning] No further splits with positive gain, best gain: -inf\n",
            "[LightGBM] [Warning] No further splits with positive gain, best gain: -inf\n",
            "[LightGBM] [Warning] No further splits with positive gain, best gain: -inf\n",
            "[LightGBM] [Warning] No further splits with positive gain, best gain: -inf\n",
            "[LightGBM] [Warning] No further splits with positive gain, best gain: -inf\n",
            "[LightGBM] [Warning] No further splits with positive gain, best gain: -inf\n",
            "[LightGBM] [Warning] No further splits with positive gain, best gain: -inf\n",
            "[LightGBM] [Warning] No further splits with positive gain, best gain: -inf\n",
            "[LightGBM] [Warning] No further splits with positive gain, best gain: -inf\n",
            "[LightGBM] [Warning] No further splits with positive gain, best gain: -inf\n",
            "[LightGBM] [Warning] No further splits with positive gain, best gain: -inf\n",
            "[LightGBM] [Warning] No further splits with positive gain, best gain: -inf\n",
            "[LightGBM] [Warning] No further splits with positive gain, best gain: -inf\n",
            "[LightGBM] [Warning] No further splits with positive gain, best gain: -inf\n",
            "[LightGBM] [Warning] No further splits with positive gain, best gain: -inf\n",
            "[LightGBM] [Warning] No further splits with positive gain, best gain: -inf\n",
            "[LightGBM] [Warning] No further splits with positive gain, best gain: -inf\n",
            "[LightGBM] [Warning] No further splits with positive gain, best gain: -inf\n",
            "[LightGBM] [Warning] No further splits with positive gain, best gain: -inf\n",
            "[LightGBM] [Warning] No further splits with positive gain, best gain: -inf\n",
            "[LightGBM] [Warning] No further splits with positive gain, best gain: -inf\n",
            "[LightGBM] [Warning] No further splits with positive gain, best gain: -inf\n",
            "[LightGBM] [Warning] No further splits with positive gain, best gain: -inf\n",
            "[LightGBM] [Warning] No further splits with positive gain, best gain: -inf\n",
            "[LightGBM] [Warning] No further splits with positive gain, best gain: -inf\n",
            "[LightGBM] [Warning] No further splits with positive gain, best gain: -inf\n",
            "[LightGBM] [Warning] No further splits with positive gain, best gain: -inf\n",
            "[LightGBM] [Warning] No further splits with positive gain, best gain: -inf\n",
            "[LightGBM] [Warning] No further splits with positive gain, best gain: -inf\n",
            "[LightGBM] [Warning] No further splits with positive gain, best gain: -inf\n",
            "[LightGBM] [Warning] No further splits with positive gain, best gain: -inf\n",
            "[LightGBM] [Warning] No further splits with positive gain, best gain: -inf\n",
            "[LightGBM] [Warning] No further splits with positive gain, best gain: -inf\n",
            "[LightGBM] [Warning] No further splits with positive gain, best gain: -inf\n",
            "[LightGBM] [Warning] No further splits with positive gain, best gain: -inf\n",
            "[LightGBM] [Warning] No further splits with positive gain, best gain: -inf\n",
            "[LightGBM] [Warning] No further splits with positive gain, best gain: -inf\n",
            "[LightGBM] [Warning] No further splits with positive gain, best gain: -inf\n",
            "[LightGBM] [Warning] No further splits with positive gain, best gain: -inf\n",
            "[LightGBM] [Warning] No further splits with positive gain, best gain: -inf\n",
            "[LightGBM] [Warning] No further splits with positive gain, best gain: -inf\n",
            "[LightGBM] [Warning] No further splits with positive gain, best gain: -inf\n",
            "[LightGBM] [Warning] No further splits with positive gain, best gain: -inf\n",
            "[LightGBM] [Warning] No further splits with positive gain, best gain: -inf\n",
            "[LightGBM] [Warning] No further splits with positive gain, best gain: -inf\n",
            "[LightGBM] [Warning] No further splits with positive gain, best gain: -inf\n",
            "[LightGBM] [Warning] No further splits with positive gain, best gain: -inf\n",
            "[LightGBM] [Warning] No further splits with positive gain, best gain: -inf\n",
            "[LightGBM] [Warning] No further splits with positive gain, best gain: -inf\n",
            "[LightGBM] [Warning] No further splits with positive gain, best gain: -inf\n",
            "[LightGBM] [Warning] No further splits with positive gain, best gain: -inf\n",
            "[LightGBM] [Warning] No further splits with positive gain, best gain: -inf\n",
            "[LightGBM] [Warning] No further splits with positive gain, best gain: -inf\n",
            "[LightGBM] [Warning] No further splits with positive gain, best gain: -inf\n",
            "[LightGBM] [Warning] No further splits with positive gain, best gain: -inf\n",
            "[LightGBM] [Warning] No further splits with positive gain, best gain: -inf\n",
            "[LightGBM] [Warning] No further splits with positive gain, best gain: -inf\n",
            "[LightGBM] [Warning] No further splits with positive gain, best gain: -inf\n",
            "[LightGBM] [Warning] No further splits with positive gain, best gain: -inf\n",
            "[LightGBM] [Warning] No further splits with positive gain, best gain: -inf\n",
            "[LightGBM] [Warning] No further splits with positive gain, best gain: -inf\n",
            "[LightGBM] [Warning] No further splits with positive gain, best gain: -inf\n",
            "[LightGBM] [Warning] No further splits with positive gain, best gain: -inf\n",
            "[LightGBM] [Warning] No further splits with positive gain, best gain: -inf\n",
            "[LightGBM] [Warning] No further splits with positive gain, best gain: -inf\n",
            "[LightGBM] [Warning] No further splits with positive gain, best gain: -inf\n",
            "[LightGBM] [Warning] No further splits with positive gain, best gain: -inf\n",
            "[LightGBM] [Warning] No further splits with positive gain, best gain: -inf\n",
            "[LightGBM] [Warning] No further splits with positive gain, best gain: -inf\n",
            "[LightGBM] [Warning] No further splits with positive gain, best gain: -inf\n",
            "[LightGBM] [Warning] No further splits with positive gain, best gain: -inf\n",
            "[LightGBM] [Warning] No further splits with positive gain, best gain: -inf\n",
            "[LightGBM] [Warning] No further splits with positive gain, best gain: -inf\n",
            "[LightGBM] [Warning] No further splits with positive gain, best gain: -inf\n",
            "[LightGBM] [Warning] No further splits with positive gain, best gain: -inf\n",
            "[LightGBM] [Warning] No further splits with positive gain, best gain: -inf\n",
            "[LightGBM] [Warning] No further splits with positive gain, best gain: -inf\n",
            "[LightGBM] [Warning] No further splits with positive gain, best gain: -inf\n",
            "[LightGBM] [Warning] No further splits with positive gain, best gain: -inf\n"
          ]
        },
        {
          "output_type": "stream",
          "name": "stderr",
          "text": [
            "100%|██████████| 29/29 [00:03<00:00,  8.15it/s]"
          ]
        },
        {
          "output_type": "stream",
          "name": "stdout",
          "text": [
            "                               Accuracy  Balanced Accuracy ROC AUC  F1 Score  \\\n",
            "Model                                                                          \n",
            "LGBMClassifier                     0.84               0.85    None      0.84   \n",
            "ExtraTreeClassifier                0.82               0.82    None      0.82   \n",
            "DecisionTreeClassifier             0.82               0.82    None      0.82   \n",
            "BaggingClassifier                  0.82               0.82    None      0.82   \n",
            "ExtraTreesClassifier               0.81               0.82    None      0.81   \n",
            "RandomForestClassifier             0.81               0.81    None      0.81   \n",
            "LabelPropagation                   0.77               0.79    None      0.77   \n",
            "LabelSpreading                     0.77               0.78    None      0.77   \n",
            "SVC                                0.68               0.70    None      0.66   \n",
            "NuSVC                              0.67               0.69    None      0.66   \n",
            "AdaBoostClassifier                 0.69               0.69    None      0.70   \n",
            "LogisticRegression                 0.65               0.67    None      0.61   \n",
            "KNeighborsClassifier               0.65               0.67    None      0.64   \n",
            "LinearSVC                          0.64               0.66    None      0.60   \n",
            "CalibratedClassifierCV             0.64               0.65    None      0.60   \n",
            "NearestCentroid                    0.63               0.65    None      0.62   \n",
            "RidgeClassifierCV                  0.63               0.64    None      0.60   \n",
            "RidgeClassifier                    0.63               0.64    None      0.60   \n",
            "LinearDiscriminantAnalysis         0.63               0.64    None      0.61   \n",
            "QuadraticDiscriminantAnalysis      0.63               0.63    None      0.61   \n",
            "SGDClassifier                      0.58               0.60    None      0.56   \n",
            "PassiveAggressiveClassifier        0.57               0.60    None      0.51   \n",
            "GaussianNB                         0.58               0.58    None      0.53   \n",
            "BernoulliNB                        0.53               0.54    None      0.47   \n",
            "Perceptron                         0.53               0.51    None      0.53   \n",
            "DummyClassifier                    0.39               0.33    None      0.22   \n",
            "\n",
            "                               Time Taken  \n",
            "Model                                      \n",
            "LGBMClassifier                       0.34  \n",
            "ExtraTreeClassifier                  0.03  \n",
            "DecisionTreeClassifier               0.03  \n",
            "BaggingClassifier                    0.09  \n",
            "ExtraTreesClassifier                 0.35  \n",
            "RandomForestClassifier               0.74  \n",
            "LabelPropagation                     0.08  \n",
            "LabelSpreading                       0.12  \n",
            "SVC                                  0.12  \n",
            "NuSVC                                0.14  \n",
            "AdaBoostClassifier                   0.30  \n",
            "LogisticRegression                   0.05  \n",
            "KNeighborsClassifier                 0.05  \n",
            "LinearSVC                            0.15  \n",
            "CalibratedClassifierCV               0.20  \n",
            "NearestCentroid                      0.04  \n",
            "RidgeClassifierCV                    0.03  \n",
            "RidgeClassifier                      0.03  \n",
            "LinearDiscriminantAnalysis           0.07  \n",
            "QuadraticDiscriminantAnalysis        0.12  \n",
            "SGDClassifier                        0.04  \n",
            "PassiveAggressiveClassifier          0.06  \n",
            "GaussianNB                           0.04  \n",
            "BernoulliNB                          0.03  \n",
            "Perceptron                           0.03  \n",
            "DummyClassifier                      0.03  \n"
          ]
        },
        {
          "output_type": "stream",
          "name": "stderr",
          "text": [
            "\n"
          ]
        }
      ],
      "source": [
        "# Initialize LazyClassifier and fit\n",
        "clf = LazyClassifier(verbose=0, ignore_warnings=True, custom_metric=None)\n",
        "models, predictions = clf.fit(X_train, X_test, y_train, y_test)# TO DO\n",
        "\n",
        "# Models is a pandas DataFrame of model performance metrics\n",
        "print(models)"
      ]
    },
    {
      "cell_type": "code",
      "source": [
        "# Create a Random Forest classifier with 100 trees\n",
        "model = RandomForestClassifier(n_estimators=100)\n",
        "\n",
        "# Fit the classifier to the training data\n",
        "# TO DO\n",
        "model.fit(X_train, y_train)\n",
        "\n",
        "# Predict the labels for the test data\n",
        "y_pred = model.predict(X_test)# TO DO\n",
        "\n",
        "# Evaluate model accuracy\n",
        "accuracy = accuracy_score(y_test,y_pred)# TO DO\n",
        "print(\"Accuracy:\", accuracy)"
      ],
      "metadata": {
        "id": "Qlmqqk2hfFg6",
        "colab": {
          "base_uri": "https://localhost:8080/"
        },
        "outputId": "1205083a-e5eb-4c93-8c6d-8d37a40c6555"
      },
      "id": "Qlmqqk2hfFg6",
      "execution_count": 14,
      "outputs": [
        {
          "output_type": "stream",
          "name": "stdout",
          "text": [
            "Accuracy: 0.812807881773399\n"
          ]
        }
      ]
    },
    {
      "cell_type": "code",
      "source": [
        "# Tree Visualisation\n",
        "# Export the first n decision trees from the forest\n",
        "n=1 # Change this variable to visualize more trees\n",
        "\n",
        "# Plot trees\n",
        "for i in range(n):\n",
        "    tree = model.estimators_[i]\n",
        "    dot_data = export_graphviz(tree,\n",
        "                               feature_names=X_train.columns,\n",
        "                               filled=True,\n",
        "                               max_depth=4,\n",
        "                               impurity=False,\n",
        "                               proportion=True)\n",
        "    graph = graphviz.Source(dot_data)\n",
        "    display(graph)"
      ],
      "metadata": {
        "id": "rze5qwXcfPSa",
        "colab": {
          "base_uri": "https://localhost:8080/",
          "height": 693
        },
        "outputId": "d89db426-147a-44fe-8513-e9ef1fbdd636"
      },
      "id": "rze5qwXcfPSa",
      "execution_count": 15,
      "outputs": [
        {
          "output_type": "display_data",
          "data": {
            "image/svg+xml": "<?xml version=\"1.0\" encoding=\"UTF-8\" standalone=\"no\"?>\n<!DOCTYPE svg PUBLIC \"-//W3C//DTD SVG 1.1//EN\"\n \"http://www.w3.org/Graphics/SVG/1.1/DTD/svg11.dtd\">\n<!-- Generated by graphviz version 2.43.0 (0)\n -->\n<!-- Title: Tree Pages: 1 -->\n<svg width=\"1483pt\" height=\"489pt\"\n viewBox=\"0.00 0.00 1482.50 489.00\" xmlns=\"http://www.w3.org/2000/svg\" xmlns:xlink=\"http://www.w3.org/1999/xlink\">\n<g id=\"graph0\" class=\"graph\" transform=\"scale(1 1) rotate(0) translate(4 485)\">\n<title>Tree</title>\n<polygon fill=\"white\" stroke=\"transparent\" points=\"-4,4 -4,-485 1478.5,-485 1478.5,4 -4,4\"/>\n<!-- 0 -->\n<g id=\"node1\" class=\"node\">\n<title>0</title>\n<polygon fill=\"#f2fdf7\" stroke=\"black\" points=\"1128.5,-481 947.5,-481 947.5,-428 1128.5,-428 1128.5,-481\"/>\n<text text-anchor=\"middle\" x=\"1038\" y=\"-465.8\" font-family=\"Helvetica,sans-Serif\" font-size=\"14.00\">SystolicBP &lt;= 132.5</text>\n<text text-anchor=\"middle\" x=\"1038\" y=\"-450.8\" font-family=\"Helvetica,sans-Serif\" font-size=\"14.00\">samples = 100.0%</text>\n<text text-anchor=\"middle\" x=\"1038\" y=\"-435.8\" font-family=\"Helvetica,sans-Serif\" font-size=\"14.00\">value = [0.27, 0.386, 0.344]</text>\n</g>\n<!-- 1 -->\n<g id=\"node2\" class=\"node\">\n<title>1</title>\n<polygon fill=\"#ebfcf2\" stroke=\"black\" points=\"868,-392 680,-392 680,-339 868,-339 868,-392\"/>\n<text text-anchor=\"middle\" x=\"774\" y=\"-376.8\" font-family=\"Helvetica,sans-Serif\" font-size=\"14.00\">BS &lt;= 7.95</text>\n<text text-anchor=\"middle\" x=\"774\" y=\"-361.8\" font-family=\"Helvetica,sans-Serif\" font-size=\"14.00\">samples = 86.8%</text>\n<text text-anchor=\"middle\" x=\"774\" y=\"-346.8\" font-family=\"Helvetica,sans-Serif\" font-size=\"14.00\">value = [0.171, 0.446, 0.383]</text>\n</g>\n<!-- 0&#45;&gt;1 -->\n<g id=\"edge1\" class=\"edge\">\n<title>0&#45;&gt;1</title>\n<path fill=\"none\" stroke=\"black\" d=\"M960.58,-427.98C929.41,-417.72 893.33,-405.82 861.24,-395.25\"/>\n<polygon fill=\"black\" stroke=\"black\" points=\"862.02,-391.82 851.42,-392.01 859.83,-398.47 862.02,-391.82\"/>\n<text text-anchor=\"middle\" x=\"862.68\" y=\"-410.64\" font-family=\"Helvetica,sans-Serif\" font-size=\"14.00\">True</text>\n</g>\n<!-- 284 -->\n<g id=\"node27\" class=\"node\">\n<title>284</title>\n<polygon fill=\"#e88e4d\" stroke=\"black\" points=\"1313.5,-392 1140.5,-392 1140.5,-339 1313.5,-339 1313.5,-392\"/>\n<text text-anchor=\"middle\" x=\"1227\" y=\"-376.8\" font-family=\"Helvetica,sans-Serif\" font-size=\"14.00\">HeartRate &lt;= 73.0</text>\n<text text-anchor=\"middle\" x=\"1227\" y=\"-361.8\" font-family=\"Helvetica,sans-Serif\" font-size=\"14.00\">samples = 13.2%</text>\n<text text-anchor=\"middle\" x=\"1227\" y=\"-346.8\" font-family=\"Helvetica,sans-Serif\" font-size=\"14.00\">value = [0.908, 0.0, 0.092]</text>\n</g>\n<!-- 0&#45;&gt;284 -->\n<g id=\"edge26\" class=\"edge\">\n<title>0&#45;&gt;284</title>\n<path fill=\"none\" stroke=\"black\" d=\"M1093.43,-427.98C1115.06,-418.03 1140.02,-406.54 1162.46,-396.21\"/>\n<polygon fill=\"black\" stroke=\"black\" points=\"1163.95,-399.38 1171.57,-392.01 1161.02,-393.02 1163.95,-399.38\"/>\n<text text-anchor=\"middle\" x=\"1162.91\" y=\"-411.76\" font-family=\"Helvetica,sans-Serif\" font-size=\"14.00\">False</text>\n</g>\n<!-- 2 -->\n<g id=\"node3\" class=\"node\">\n<title>2</title>\n<polygon fill=\"#c9f8dd\" stroke=\"black\" points=\"578,-303 390,-303 390,-250 578,-250 578,-303\"/>\n<text text-anchor=\"middle\" x=\"484\" y=\"-287.8\" font-family=\"Helvetica,sans-Serif\" font-size=\"14.00\">SystolicBP &lt;= 125.0</text>\n<text text-anchor=\"middle\" x=\"484\" y=\"-272.8\" font-family=\"Helvetica,sans-Serif\" font-size=\"14.00\">samples = 69.1%</text>\n<text text-anchor=\"middle\" x=\"484\" y=\"-257.8\" font-family=\"Helvetica,sans-Serif\" font-size=\"14.00\">value = [0.051, 0.558, 0.391]</text>\n</g>\n<!-- 1&#45;&gt;2 -->\n<g id=\"edge2\" class=\"edge\">\n<title>1&#45;&gt;2</title>\n<path fill=\"none\" stroke=\"black\" d=\"M688.95,-338.98C654.42,-328.63 614.4,-316.62 578.92,-305.98\"/>\n<polygon fill=\"black\" stroke=\"black\" points=\"579.63,-302.54 569.05,-303.01 577.62,-309.24 579.63,-302.54\"/>\n</g>\n<!-- 239 -->\n<g id=\"node12\" class=\"node\">\n<title>239</title>\n<polygon fill=\"#f5d0b6\" stroke=\"black\" points=\"868,-303 680,-303 680,-250 868,-250 868,-303\"/>\n<text text-anchor=\"middle\" x=\"774\" y=\"-287.8\" font-family=\"Helvetica,sans-Serif\" font-size=\"14.00\">DiastolicBP &lt;= 72.5</text>\n<text text-anchor=\"middle\" x=\"774\" y=\"-272.8\" font-family=\"Helvetica,sans-Serif\" font-size=\"14.00\">samples = 17.8%</text>\n<text text-anchor=\"middle\" x=\"774\" y=\"-257.8\" font-family=\"Helvetica,sans-Serif\" font-size=\"14.00\">value = [0.594, 0.052, 0.355]</text>\n</g>\n<!-- 1&#45;&gt;239 -->\n<g id=\"edge11\" class=\"edge\">\n<title>1&#45;&gt;239</title>\n<path fill=\"none\" stroke=\"black\" d=\"M774,-338.87C774,-330.89 774,-321.93 774,-313.38\"/>\n<polygon fill=\"black\" stroke=\"black\" points=\"777.5,-313.25 774,-303.25 770.5,-313.25 777.5,-313.25\"/>\n</g>\n<!-- 3 -->\n<g id=\"node4\" class=\"node\">\n<title>3</title>\n<polygon fill=\"#bff7d7\" stroke=\"black\" points=\"391,-214 203,-214 203,-161 391,-161 391,-214\"/>\n<text text-anchor=\"middle\" x=\"297\" y=\"-198.8\" font-family=\"Helvetica,sans-Serif\" font-size=\"14.00\">BS &lt;= 7.055</text>\n<text text-anchor=\"middle\" x=\"297\" y=\"-183.8\" font-family=\"Helvetica,sans-Serif\" font-size=\"14.00\">samples = 66.7%</text>\n<text text-anchor=\"middle\" x=\"297\" y=\"-168.8\" font-family=\"Helvetica,sans-Serif\" font-size=\"14.00\">value = [0.053, 0.574, 0.373]</text>\n</g>\n<!-- 2&#45;&gt;3 -->\n<g id=\"edge3\" class=\"edge\">\n<title>2&#45;&gt;3</title>\n<path fill=\"none\" stroke=\"black\" d=\"M429.16,-249.98C407.85,-240.07 383.28,-228.64 361.16,-218.35\"/>\n<polygon fill=\"black\" stroke=\"black\" points=\"362.38,-215.06 351.84,-214.01 359.43,-221.41 362.38,-215.06\"/>\n</g>\n<!-- 238 -->\n<g id=\"node11\" class=\"node\">\n<title>238</title>\n<polygon fill=\"#8139e5\" stroke=\"black\" points=\"555.5,-206.5 412.5,-206.5 412.5,-168.5 555.5,-168.5 555.5,-206.5\"/>\n<text text-anchor=\"middle\" x=\"484\" y=\"-191.3\" font-family=\"Helvetica,sans-Serif\" font-size=\"14.00\">samples = 2.4%</text>\n<text text-anchor=\"middle\" x=\"484\" y=\"-176.3\" font-family=\"Helvetica,sans-Serif\" font-size=\"14.00\">value = [0.0, 0.0, 1.0]</text>\n</g>\n<!-- 2&#45;&gt;238 -->\n<g id=\"edge10\" class=\"edge\">\n<title>2&#45;&gt;238</title>\n<path fill=\"none\" stroke=\"black\" d=\"M484,-249.87C484,-239.42 484,-227.3 484,-216.61\"/>\n<polygon fill=\"black\" stroke=\"black\" points=\"487.5,-216.51 484,-206.51 480.5,-216.51 487.5,-216.51\"/>\n</g>\n<!-- 4 -->\n<g id=\"node5\" class=\"node\">\n<title>4</title>\n<polygon fill=\"#f1e9fc\" stroke=\"black\" points=\"188,-125 0,-125 0,-72 188,-72 188,-125\"/>\n<text text-anchor=\"middle\" x=\"94\" y=\"-109.8\" font-family=\"Helvetica,sans-Serif\" font-size=\"14.00\">BodyTemp &lt;= 99.5</text>\n<text text-anchor=\"middle\" x=\"94\" y=\"-94.8\" font-family=\"Helvetica,sans-Serif\" font-size=\"14.00\">samples = 37.3%</text>\n<text text-anchor=\"middle\" x=\"94\" y=\"-79.8\" font-family=\"Helvetica,sans-Serif\" font-size=\"14.00\">value = [0.046, 0.446, 0.508]</text>\n</g>\n<!-- 3&#45;&gt;4 -->\n<g id=\"edge4\" class=\"edge\">\n<title>3&#45;&gt;4</title>\n<path fill=\"none\" stroke=\"black\" d=\"M237.46,-160.98C214.12,-150.98 187.19,-139.44 163,-129.07\"/>\n<polygon fill=\"black\" stroke=\"black\" points=\"164.1,-125.74 153.53,-125.01 161.35,-132.17 164.1,-125.74\"/>\n</g>\n<!-- 139 -->\n<g id=\"node8\" class=\"node\">\n<title>139</title>\n<polygon fill=\"#77eda8\" stroke=\"black\" points=\"387.5,-125 206.5,-125 206.5,-72 387.5,-72 387.5,-125\"/>\n<text text-anchor=\"middle\" x=\"297\" y=\"-109.8\" font-family=\"Helvetica,sans-Serif\" font-size=\"14.00\">Age &lt;= 14.0</text>\n<text text-anchor=\"middle\" x=\"297\" y=\"-94.8\" font-family=\"Helvetica,sans-Serif\" font-size=\"14.00\">samples = 29.3%</text>\n<text text-anchor=\"middle\" x=\"297\" y=\"-79.8\" font-family=\"Helvetica,sans-Serif\" font-size=\"14.00\">value = [0.062, 0.748, 0.19]</text>\n</g>\n<!-- 3&#45;&gt;139 -->\n<g id=\"edge7\" class=\"edge\">\n<title>3&#45;&gt;139</title>\n<path fill=\"none\" stroke=\"black\" d=\"M297,-160.87C297,-152.89 297,-143.93 297,-135.38\"/>\n<polygon fill=\"black\" stroke=\"black\" points=\"300.5,-135.25 297,-125.25 293.5,-135.25 300.5,-135.25\"/>\n</g>\n<!-- 5 -->\n<g id=\"node6\" class=\"node\">\n<title>5</title>\n<polygon fill=\"#c0c0c0\" stroke=\"black\" points=\"85,-36 31,-36 31,0 85,0 85,-36\"/>\n<text text-anchor=\"middle\" x=\"58\" y=\"-14.3\" font-family=\"Helvetica,sans-Serif\" font-size=\"14.00\">(...)</text>\n</g>\n<!-- 4&#45;&gt;5 -->\n<g id=\"edge5\" class=\"edge\">\n<title>4&#45;&gt;5</title>\n<path fill=\"none\" stroke=\"black\" d=\"M82.21,-71.8C78.34,-63.35 74.03,-53.95 70.13,-45.45\"/>\n<polygon fill=\"black\" stroke=\"black\" points=\"73.3,-43.96 65.95,-36.33 66.93,-46.88 73.3,-43.96\"/>\n</g>\n<!-- 118 -->\n<g id=\"node7\" class=\"node\">\n<title>118</title>\n<polygon fill=\"#c0c0c0\" stroke=\"black\" points=\"157,-36 103,-36 103,0 157,0 157,-36\"/>\n<text text-anchor=\"middle\" x=\"130\" y=\"-14.3\" font-family=\"Helvetica,sans-Serif\" font-size=\"14.00\">(...)</text>\n</g>\n<!-- 4&#45;&gt;118 -->\n<g id=\"edge6\" class=\"edge\">\n<title>4&#45;&gt;118</title>\n<path fill=\"none\" stroke=\"black\" d=\"M105.79,-71.8C109.66,-63.35 113.97,-53.95 117.87,-45.45\"/>\n<polygon fill=\"black\" stroke=\"black\" points=\"121.07,-46.88 122.05,-36.33 114.7,-43.96 121.07,-46.88\"/>\n</g>\n<!-- 140 -->\n<g id=\"node9\" class=\"node\">\n<title>140</title>\n<polygon fill=\"#c0c0c0\" stroke=\"black\" points=\"294,-36 240,-36 240,0 294,0 294,-36\"/>\n<text text-anchor=\"middle\" x=\"267\" y=\"-14.3\" font-family=\"Helvetica,sans-Serif\" font-size=\"14.00\">(...)</text>\n</g>\n<!-- 139&#45;&gt;140 -->\n<g id=\"edge8\" class=\"edge\">\n<title>139&#45;&gt;140</title>\n<path fill=\"none\" stroke=\"black\" d=\"M287.18,-71.8C283.98,-63.44 280.43,-54.15 277.21,-45.72\"/>\n<polygon fill=\"black\" stroke=\"black\" points=\"280.46,-44.42 273.62,-36.33 273.92,-46.92 280.46,-44.42\"/>\n</g>\n<!-- 149 -->\n<g id=\"node10\" class=\"node\">\n<title>149</title>\n<polygon fill=\"#c0c0c0\" stroke=\"black\" points=\"366,-36 312,-36 312,0 366,0 366,-36\"/>\n<text text-anchor=\"middle\" x=\"339\" y=\"-14.3\" font-family=\"Helvetica,sans-Serif\" font-size=\"14.00\">(...)</text>\n</g>\n<!-- 139&#45;&gt;149 -->\n<g id=\"edge9\" class=\"edge\">\n<title>139&#45;&gt;149</title>\n<path fill=\"none\" stroke=\"black\" d=\"M310.75,-71.8C315.32,-63.26 320.41,-53.75 325,-45.17\"/>\n<polygon fill=\"black\" stroke=\"black\" points=\"328.1,-46.8 329.73,-36.33 321.92,-43.5 328.1,-46.8\"/>\n</g>\n<!-- 240 -->\n<g id=\"node13\" class=\"node\">\n<title>240</title>\n<polygon fill=\"#efaf81\" stroke=\"black\" points=\"749.5,-214 576.5,-214 576.5,-161 749.5,-161 749.5,-214\"/>\n<text text-anchor=\"middle\" x=\"663\" y=\"-198.8\" font-family=\"Helvetica,sans-Serif\" font-size=\"14.00\">HeartRate &lt;= 83.0</text>\n<text text-anchor=\"middle\" x=\"663\" y=\"-183.8\" font-family=\"Helvetica,sans-Serif\" font-size=\"14.00\">samples = 7.0%</text>\n<text text-anchor=\"middle\" x=\"663\" y=\"-168.8\" font-family=\"Helvetica,sans-Serif\" font-size=\"14.00\">value = [0.732, 0.0, 0.268]</text>\n</g>\n<!-- 239&#45;&gt;240 -->\n<g id=\"edge12\" class=\"edge\">\n<title>239&#45;&gt;240</title>\n<path fill=\"none\" stroke=\"black\" d=\"M741.3,-249.87C729.55,-240.66 716.14,-230.15 703.79,-220.47\"/>\n<polygon fill=\"black\" stroke=\"black\" points=\"705.88,-217.66 695.85,-214.25 701.56,-223.17 705.88,-217.66\"/>\n</g>\n<!-- 251 -->\n<g id=\"node20\" class=\"node\">\n<title>251</title>\n<polygon fill=\"#fae8da\" stroke=\"black\" points=\"956,-214 768,-214 768,-161 956,-161 956,-214\"/>\n<text text-anchor=\"middle\" x=\"862\" y=\"-198.8\" font-family=\"Helvetica,sans-Serif\" font-size=\"14.00\">BS &lt;= 10.0</text>\n<text text-anchor=\"middle\" x=\"862\" y=\"-183.8\" font-family=\"Helvetica,sans-Serif\" font-size=\"14.00\">samples = 10.8%</text>\n<text text-anchor=\"middle\" x=\"862\" y=\"-168.8\" font-family=\"Helvetica,sans-Serif\" font-size=\"14.00\">value = [0.515, 0.081, 0.404]</text>\n</g>\n<!-- 239&#45;&gt;251 -->\n<g id=\"edge19\" class=\"edge\">\n<title>239&#45;&gt;251</title>\n<path fill=\"none\" stroke=\"black\" d=\"M799.93,-249.87C808.98,-240.92 819.26,-230.75 828.82,-221.3\"/>\n<polygon fill=\"black\" stroke=\"black\" points=\"831.3,-223.77 835.95,-214.25 826.38,-218.79 831.3,-223.77\"/>\n</g>\n<!-- 241 -->\n<g id=\"node14\" class=\"node\">\n<title>241</title>\n<polygon fill=\"#e78c4b\" stroke=\"black\" points=\"578.5,-125 405.5,-125 405.5,-72 578.5,-72 578.5,-125\"/>\n<text text-anchor=\"middle\" x=\"492\" y=\"-109.8\" font-family=\"Helvetica,sans-Serif\" font-size=\"14.00\">SystolicBP &lt;= 125.0</text>\n<text text-anchor=\"middle\" x=\"492\" y=\"-94.8\" font-family=\"Helvetica,sans-Serif\" font-size=\"14.00\">samples = 4.4%</text>\n<text text-anchor=\"middle\" x=\"492\" y=\"-79.8\" font-family=\"Helvetica,sans-Serif\" font-size=\"14.00\">value = [0.917, 0.0, 0.083]</text>\n</g>\n<!-- 240&#45;&gt;241 -->\n<g id=\"edge13\" class=\"edge\">\n<title>240&#45;&gt;241</title>\n<path fill=\"none\" stroke=\"black\" d=\"M612.62,-160.87C593.4,-151.09 571.31,-139.85 551.33,-129.68\"/>\n<polygon fill=\"black\" stroke=\"black\" points=\"552.82,-126.51 542.32,-125.1 549.64,-132.75 552.82,-126.51\"/>\n</g>\n<!-- 248 -->\n<g id=\"node17\" class=\"node\">\n<title>248</title>\n<polygon fill=\"#d5bdf6\" stroke=\"black\" points=\"739.5,-125 596.5,-125 596.5,-72 739.5,-72 739.5,-125\"/>\n<text text-anchor=\"middle\" x=\"668\" y=\"-109.8\" font-family=\"Helvetica,sans-Serif\" font-size=\"14.00\">BS &lt;= 9.5</text>\n<text text-anchor=\"middle\" x=\"668\" y=\"-94.8\" font-family=\"Helvetica,sans-Serif\" font-size=\"14.00\">samples = 2.6%</text>\n<text text-anchor=\"middle\" x=\"668\" y=\"-79.8\" font-family=\"Helvetica,sans-Serif\" font-size=\"14.00\">value = [0.4, 0.0, 0.6]</text>\n</g>\n<!-- 240&#45;&gt;248 -->\n<g id=\"edge16\" class=\"edge\">\n<title>240&#45;&gt;248</title>\n<path fill=\"none\" stroke=\"black\" d=\"M664.47,-160.87C664.93,-152.89 665.45,-143.93 665.94,-135.38\"/>\n<polygon fill=\"black\" stroke=\"black\" points=\"669.44,-135.43 666.52,-125.25 662.45,-135.03 669.44,-135.43\"/>\n</g>\n<!-- 242 -->\n<g id=\"node15\" class=\"node\">\n<title>242</title>\n<polygon fill=\"#c0c0c0\" stroke=\"black\" points=\"463,-36 409,-36 409,0 463,0 463,-36\"/>\n<text text-anchor=\"middle\" x=\"436\" y=\"-14.3\" font-family=\"Helvetica,sans-Serif\" font-size=\"14.00\">(...)</text>\n</g>\n<!-- 241&#45;&gt;242 -->\n<g id=\"edge14\" class=\"edge\">\n<title>241&#45;&gt;242</title>\n<path fill=\"none\" stroke=\"black\" d=\"M473.66,-71.8C467.44,-63.08 460.5,-53.34 454.28,-44.63\"/>\n<polygon fill=\"black\" stroke=\"black\" points=\"457.02,-42.44 448.36,-36.33 451.32,-46.5 457.02,-42.44\"/>\n</g>\n<!-- 247 -->\n<g id=\"node16\" class=\"node\">\n<title>247</title>\n<polygon fill=\"#c0c0c0\" stroke=\"black\" points=\"535,-36 481,-36 481,0 535,0 535,-36\"/>\n<text text-anchor=\"middle\" x=\"508\" y=\"-14.3\" font-family=\"Helvetica,sans-Serif\" font-size=\"14.00\">(...)</text>\n</g>\n<!-- 241&#45;&gt;247 -->\n<g id=\"edge15\" class=\"edge\">\n<title>241&#45;&gt;247</title>\n<path fill=\"none\" stroke=\"black\" d=\"M497.24,-71.8C498.91,-63.62 500.75,-54.55 502.44,-46.27\"/>\n<polygon fill=\"black\" stroke=\"black\" points=\"505.9,-46.83 504.47,-36.33 499.04,-45.43 505.9,-46.83\"/>\n</g>\n<!-- 249 -->\n<g id=\"node18\" class=\"node\">\n<title>249</title>\n<polygon fill=\"#c0c0c0\" stroke=\"black\" points=\"639,-36 585,-36 585,0 639,0 639,-36\"/>\n<text text-anchor=\"middle\" x=\"612\" y=\"-14.3\" font-family=\"Helvetica,sans-Serif\" font-size=\"14.00\">(...)</text>\n</g>\n<!-- 248&#45;&gt;249 -->\n<g id=\"edge17\" class=\"edge\">\n<title>248&#45;&gt;249</title>\n<path fill=\"none\" stroke=\"black\" d=\"M649.66,-71.8C643.44,-63.08 636.5,-53.34 630.28,-44.63\"/>\n<polygon fill=\"black\" stroke=\"black\" points=\"633.02,-42.44 624.36,-36.33 627.32,-46.5 633.02,-42.44\"/>\n</g>\n<!-- 250 -->\n<g id=\"node19\" class=\"node\">\n<title>250</title>\n<polygon fill=\"#c0c0c0\" stroke=\"black\" points=\"711,-36 657,-36 657,0 711,0 711,-36\"/>\n<text text-anchor=\"middle\" x=\"684\" y=\"-14.3\" font-family=\"Helvetica,sans-Serif\" font-size=\"14.00\">(...)</text>\n</g>\n<!-- 248&#45;&gt;250 -->\n<g id=\"edge18\" class=\"edge\">\n<title>248&#45;&gt;250</title>\n<path fill=\"none\" stroke=\"black\" d=\"M673.24,-71.8C674.91,-63.62 676.75,-54.55 678.44,-46.27\"/>\n<polygon fill=\"black\" stroke=\"black\" points=\"681.9,-46.83 680.47,-36.33 675.04,-45.43 681.9,-46.83\"/>\n</g>\n<!-- 252 -->\n<g id=\"node21\" class=\"node\">\n<title>252</title>\n<polygon fill=\"#cdb0f5\" stroke=\"black\" points=\"930.5,-125 757.5,-125 757.5,-72 930.5,-72 930.5,-125\"/>\n<text text-anchor=\"middle\" x=\"844\" y=\"-109.8\" font-family=\"Helvetica,sans-Serif\" font-size=\"14.00\">DiastolicBP &lt;= 77.5</text>\n<text text-anchor=\"middle\" x=\"844\" y=\"-94.8\" font-family=\"Helvetica,sans-Serif\" font-size=\"14.00\">samples = 1.6%</text>\n<text text-anchor=\"middle\" x=\"844\" y=\"-79.8\" font-family=\"Helvetica,sans-Serif\" font-size=\"14.00\">value = [0.0, 0.375, 0.625]</text>\n</g>\n<!-- 251&#45;&gt;252 -->\n<g id=\"edge20\" class=\"edge\">\n<title>251&#45;&gt;252</title>\n<path fill=\"none\" stroke=\"black\" d=\"M856.7,-160.87C855.03,-152.8 853.15,-143.74 851.37,-135.1\"/>\n<polygon fill=\"black\" stroke=\"black\" points=\"854.78,-134.33 849.33,-125.25 847.93,-135.75 854.78,-134.33\"/>\n</g>\n<!-- 261 -->\n<g id=\"node24\" class=\"node\">\n<title>261</title>\n<polygon fill=\"#f5cdb1\" stroke=\"black\" points=\"1137,-125 949,-125 949,-72 1137,-72 1137,-125\"/>\n<text text-anchor=\"middle\" x=\"1043\" y=\"-109.8\" font-family=\"Helvetica,sans-Serif\" font-size=\"14.00\">SystolicBP &lt;= 125.0</text>\n<text text-anchor=\"middle\" x=\"1043\" y=\"-94.8\" font-family=\"Helvetica,sans-Serif\" font-size=\"14.00\">samples = 9.2%</text>\n<text text-anchor=\"middle\" x=\"1043\" y=\"-79.8\" font-family=\"Helvetica,sans-Serif\" font-size=\"14.00\">value = [0.614, 0.024, 0.361]</text>\n</g>\n<!-- 251&#45;&gt;261 -->\n<g id=\"edge23\" class=\"edge\">\n<title>251&#45;&gt;261</title>\n<path fill=\"none\" stroke=\"black\" d=\"M915.33,-160.87C935.77,-151.04 959.26,-139.75 980.49,-129.55\"/>\n<polygon fill=\"black\" stroke=\"black\" points=\"982.25,-132.59 989.74,-125.1 979.21,-126.28 982.25,-132.59\"/>\n</g>\n<!-- 253 -->\n<g id=\"node22\" class=\"node\">\n<title>253</title>\n<polygon fill=\"#c0c0c0\" stroke=\"black\" points=\"826,-36 772,-36 772,0 826,0 826,-36\"/>\n<text text-anchor=\"middle\" x=\"799\" y=\"-14.3\" font-family=\"Helvetica,sans-Serif\" font-size=\"14.00\">(...)</text>\n</g>\n<!-- 252&#45;&gt;253 -->\n<g id=\"edge21\" class=\"edge\">\n<title>252&#45;&gt;253</title>\n<path fill=\"none\" stroke=\"black\" d=\"M829.27,-71.8C824.37,-63.26 818.92,-53.75 814,-45.17\"/>\n<polygon fill=\"black\" stroke=\"black\" points=\"816.94,-43.27 808.93,-36.33 810.87,-46.75 816.94,-43.27\"/>\n</g>\n<!-- 256 -->\n<g id=\"node23\" class=\"node\">\n<title>256</title>\n<polygon fill=\"#c0c0c0\" stroke=\"black\" points=\"898,-36 844,-36 844,0 898,0 898,-36\"/>\n<text text-anchor=\"middle\" x=\"871\" y=\"-14.3\" font-family=\"Helvetica,sans-Serif\" font-size=\"14.00\">(...)</text>\n</g>\n<!-- 252&#45;&gt;256 -->\n<g id=\"edge22\" class=\"edge\">\n<title>252&#45;&gt;256</title>\n<path fill=\"none\" stroke=\"black\" d=\"M852.84,-71.8C855.68,-63.53 858.84,-54.35 861.71,-46\"/>\n<polygon fill=\"black\" stroke=\"black\" points=\"865.1,-46.93 865.04,-36.33 858.48,-44.65 865.1,-46.93\"/>\n</g>\n<!-- 262 -->\n<g id=\"node25\" class=\"node\">\n<title>262</title>\n<polygon fill=\"#c0c0c0\" stroke=\"black\" points=\"1034,-36 980,-36 980,0 1034,0 1034,-36\"/>\n<text text-anchor=\"middle\" x=\"1007\" y=\"-14.3\" font-family=\"Helvetica,sans-Serif\" font-size=\"14.00\">(...)</text>\n</g>\n<!-- 261&#45;&gt;262 -->\n<g id=\"edge24\" class=\"edge\">\n<title>261&#45;&gt;262</title>\n<path fill=\"none\" stroke=\"black\" d=\"M1031.21,-71.8C1027.34,-63.35 1023.03,-53.95 1019.13,-45.45\"/>\n<polygon fill=\"black\" stroke=\"black\" points=\"1022.3,-43.96 1014.95,-36.33 1015.93,-46.88 1022.3,-43.96\"/>\n</g>\n<!-- 277 -->\n<g id=\"node26\" class=\"node\">\n<title>277</title>\n<polygon fill=\"#c0c0c0\" stroke=\"black\" points=\"1106,-36 1052,-36 1052,0 1106,0 1106,-36\"/>\n<text text-anchor=\"middle\" x=\"1079\" y=\"-14.3\" font-family=\"Helvetica,sans-Serif\" font-size=\"14.00\">(...)</text>\n</g>\n<!-- 261&#45;&gt;277 -->\n<g id=\"edge25\" class=\"edge\">\n<title>261&#45;&gt;277</title>\n<path fill=\"none\" stroke=\"black\" d=\"M1054.79,-71.8C1058.66,-63.35 1062.97,-53.95 1066.87,-45.45\"/>\n<polygon fill=\"black\" stroke=\"black\" points=\"1070.07,-46.88 1071.05,-36.33 1063.7,-43.96 1070.07,-46.88\"/>\n</g>\n<!-- 285 -->\n<g id=\"node28\" class=\"node\">\n<title>285</title>\n<polygon fill=\"#eca470\" stroke=\"black\" points=\"1313.5,-303 1140.5,-303 1140.5,-250 1313.5,-250 1313.5,-303\"/>\n<text text-anchor=\"middle\" x=\"1227\" y=\"-287.8\" font-family=\"Helvetica,sans-Serif\" font-size=\"14.00\">DiastolicBP &lt;= 85.0</text>\n<text text-anchor=\"middle\" x=\"1227\" y=\"-272.8\" font-family=\"Helvetica,sans-Serif\" font-size=\"14.00\">samples = 5.2%</text>\n<text text-anchor=\"middle\" x=\"1227\" y=\"-257.8\" font-family=\"Helvetica,sans-Serif\" font-size=\"14.00\">value = [0.783, 0.0, 0.217]</text>\n</g>\n<!-- 284&#45;&gt;285 -->\n<g id=\"edge27\" class=\"edge\">\n<title>284&#45;&gt;285</title>\n<path fill=\"none\" stroke=\"black\" d=\"M1227,-338.87C1227,-330.89 1227,-321.93 1227,-313.38\"/>\n<polygon fill=\"black\" stroke=\"black\" points=\"1230.5,-313.25 1227,-303.25 1223.5,-313.25 1230.5,-313.25\"/>\n</g>\n<!-- 290 -->\n<g id=\"node33\" class=\"node\">\n<title>290</title>\n<polygon fill=\"#e58139\" stroke=\"black\" points=\"1474.5,-295.5 1331.5,-295.5 1331.5,-257.5 1474.5,-257.5 1474.5,-295.5\"/>\n<text text-anchor=\"middle\" x=\"1403\" y=\"-280.3\" font-family=\"Helvetica,sans-Serif\" font-size=\"14.00\">samples = 8.0%</text>\n<text text-anchor=\"middle\" x=\"1403\" y=\"-265.3\" font-family=\"Helvetica,sans-Serif\" font-size=\"14.00\">value = [1.0, 0.0, 0.0]</text>\n</g>\n<!-- 284&#45;&gt;290 -->\n<g id=\"edge32\" class=\"edge\">\n<title>284&#45;&gt;290</title>\n<path fill=\"none\" stroke=\"black\" d=\"M1278.85,-338.87C1303.74,-326.57 1333.29,-311.96 1357.32,-300.08\"/>\n<polygon fill=\"black\" stroke=\"black\" points=\"1359.16,-303.08 1366.57,-295.51 1356.06,-296.8 1359.16,-303.08\"/>\n</g>\n<!-- 286 -->\n<g id=\"node29\" class=\"node\">\n<title>286</title>\n<polygon fill=\"#b388ef\" stroke=\"black\" points=\"1313.5,-214 1140.5,-214 1140.5,-161 1313.5,-161 1313.5,-214\"/>\n<text text-anchor=\"middle\" x=\"1227\" y=\"-198.8\" font-family=\"Helvetica,sans-Serif\" font-size=\"14.00\">Age &lt;= 42.5</text>\n<text text-anchor=\"middle\" x=\"1227\" y=\"-183.8\" font-family=\"Helvetica,sans-Serif\" font-size=\"14.00\">samples = 1.4%</text>\n<text text-anchor=\"middle\" x=\"1227\" y=\"-168.8\" font-family=\"Helvetica,sans-Serif\" font-size=\"14.00\">value = [0.286, 0.0, 0.714]</text>\n</g>\n<!-- 285&#45;&gt;286 -->\n<g id=\"edge28\" class=\"edge\">\n<title>285&#45;&gt;286</title>\n<path fill=\"none\" stroke=\"black\" d=\"M1227,-249.87C1227,-241.89 1227,-232.93 1227,-224.38\"/>\n<polygon fill=\"black\" stroke=\"black\" points=\"1230.5,-224.25 1227,-214.25 1223.5,-224.25 1230.5,-224.25\"/>\n</g>\n<!-- 289 -->\n<g id=\"node32\" class=\"node\">\n<title>289</title>\n<polygon fill=\"#e58139\" stroke=\"black\" points=\"1474.5,-206.5 1331.5,-206.5 1331.5,-168.5 1474.5,-168.5 1474.5,-206.5\"/>\n<text text-anchor=\"middle\" x=\"1403\" y=\"-191.3\" font-family=\"Helvetica,sans-Serif\" font-size=\"14.00\">samples = 3.8%</text>\n<text text-anchor=\"middle\" x=\"1403\" y=\"-176.3\" font-family=\"Helvetica,sans-Serif\" font-size=\"14.00\">value = [1.0, 0.0, 0.0]</text>\n</g>\n<!-- 285&#45;&gt;289 -->\n<g id=\"edge31\" class=\"edge\">\n<title>285&#45;&gt;289</title>\n<path fill=\"none\" stroke=\"black\" d=\"M1278.85,-249.87C1303.74,-237.57 1333.29,-222.96 1357.32,-211.08\"/>\n<polygon fill=\"black\" stroke=\"black\" points=\"1359.16,-214.08 1366.57,-206.51 1356.06,-207.8 1359.16,-214.08\"/>\n</g>\n<!-- 287 -->\n<g id=\"node30\" class=\"node\">\n<title>287</title>\n<polygon fill=\"#e58139\" stroke=\"black\" points=\"1298.5,-117.5 1155.5,-117.5 1155.5,-79.5 1298.5,-79.5 1298.5,-117.5\"/>\n<text text-anchor=\"middle\" x=\"1227\" y=\"-102.3\" font-family=\"Helvetica,sans-Serif\" font-size=\"14.00\">samples = 0.6%</text>\n<text text-anchor=\"middle\" x=\"1227\" y=\"-87.3\" font-family=\"Helvetica,sans-Serif\" font-size=\"14.00\">value = [1.0, 0.0, 0.0]</text>\n</g>\n<!-- 286&#45;&gt;287 -->\n<g id=\"edge29\" class=\"edge\">\n<title>286&#45;&gt;287</title>\n<path fill=\"none\" stroke=\"black\" d=\"M1227,-160.87C1227,-150.42 1227,-138.3 1227,-127.61\"/>\n<polygon fill=\"black\" stroke=\"black\" points=\"1230.5,-127.51 1227,-117.51 1223.5,-127.51 1230.5,-127.51\"/>\n</g>\n<!-- 288 -->\n<g id=\"node31\" class=\"node\">\n<title>288</title>\n<polygon fill=\"#8139e5\" stroke=\"black\" points=\"1459.5,-117.5 1316.5,-117.5 1316.5,-79.5 1459.5,-79.5 1459.5,-117.5\"/>\n<text text-anchor=\"middle\" x=\"1388\" y=\"-102.3\" font-family=\"Helvetica,sans-Serif\" font-size=\"14.00\">samples = 0.8%</text>\n<text text-anchor=\"middle\" x=\"1388\" y=\"-87.3\" font-family=\"Helvetica,sans-Serif\" font-size=\"14.00\">value = [0.0, 0.0, 1.0]</text>\n</g>\n<!-- 286&#45;&gt;288 -->\n<g id=\"edge30\" class=\"edge\">\n<title>286&#45;&gt;288</title>\n<path fill=\"none\" stroke=\"black\" d=\"M1274.43,-160.87C1297,-148.68 1323.75,-134.22 1345.63,-122.4\"/>\n<polygon fill=\"black\" stroke=\"black\" points=\"1347.54,-125.34 1354.68,-117.51 1344.22,-119.18 1347.54,-125.34\"/>\n</g>\n</g>\n</svg>\n",
            "text/plain": [
              "<graphviz.sources.Source at 0x7e3a843328c0>"
            ]
          },
          "metadata": {}
        }
      ]
    },
    {
      "cell_type": "code",
      "source": [
        "# Display the confusion matrix\n",
        "cm = confusion_matrix(y_test, y_pred)\n",
        "ConfusionMatrixDisplay(confusion_matrix=cm, display_labels=model.classes_).plot();"
      ],
      "metadata": {
        "id": "hZd_axCPiWfB",
        "colab": {
          "base_uri": "https://localhost:8080/",
          "height": 449
        },
        "outputId": "360a88b1-20d2-4553-ce9d-06e2dd532a58"
      },
      "id": "hZd_axCPiWfB",
      "execution_count": 16,
      "outputs": [
        {
          "output_type": "display_data",
          "data": {
            "text/plain": [
              "<Figure size 640x480 with 2 Axes>"
            ],
            "image/png": "[encoded data removed]"
          },
          "metadata": {}
        }
      ]
    },
    {
      "cell_type": "code",
      "source": [
        "accuracy = accuracy_score(y_test, y_pred)\n",
        "precision = precision_score(y_test, y_pred, average='weighted')\n",
        "recall = recall_score(y_test, y_pred, average='weighted')\n",
        "\n",
        "print(\"Accuracy:\", accuracy)\n",
        "print(\"Precision:\", precision)\n",
        "print(\"Recall:\", recall)"
      ],
      "metadata": {
        "id": "fqor2lK9ii_A",
        "colab": {
          "base_uri": "https://localhost:8080/"
        },
        "outputId": "7043dc43-5526-4112-f9aa-9eafa7268d9f"
      },
      "id": "fqor2lK9ii_A",
      "execution_count": 17,
      "outputs": [
        {
          "output_type": "stream",
          "name": "stdout",
          "text": [
            "Accuracy: 0.812807881773399\n",
            "Precision: 0.8185226557560207\n",
            "Recall: 0.812807881773399\n"
          ]
        }
      ]
    },
    {
      "cell_type": "markdown",
      "id": "f2a0551d-902f-473e-9cd4-2c62aa1eb005",
      "metadata": {
        "id": "f2a0551d-902f-473e-9cd4-2c62aa1eb005"
      },
      "source": [
        "------------------------------------------------------\n",
        "------------------------------------------------------"
      ]
    }
  ],
  "metadata": {
    "kernelspec": {
      "display_name": "Python 3",
      "name": "python3"
    },
    "language_info": {
      "name": "python"
    },
    "colab": {
      "provenance": [],
      "gpuType": "T4",
      "toc_visible": true,
      "include_colab_link": true
    },
    "accelerator": "GPU"
  },
  "nbformat": 4,
  "nbformat_minor": 5
}